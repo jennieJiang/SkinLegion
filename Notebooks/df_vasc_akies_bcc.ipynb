{
 "cells": [
  {
   "cell_type": "code",
   "execution_count": 12,
   "metadata": {},
   "outputs": [],
   "source": [
    "import os\n",
    "import numpy as np\n",
    "import matplotlib.pyplot as plt\n",
    "import keras.backend as K"
   ]
  },
  {
   "cell_type": "code",
   "execution_count": 2,
   "metadata": {},
   "outputs": [],
   "source": [
    "BATCH_SIZE = 16\n",
    "SEED = 10349\n",
    "\n",
    "IM_HEIGHT = 450\n",
    "IM_WIDTH = 600\n",
    "\n",
    "np.random.seed(SEED)\n",
    "\n",
    "global_mean = np.load('Utils/np_mean_rounded_nonweighted.npz')['image']\n",
    "global_std = np.load('Utils/np_std_rounded_nonweighted.npz')['image']"
   ]
  },
  {
   "cell_type": "code",
   "execution_count": 3,
   "metadata": {},
   "outputs": [],
   "source": [
    "def preprocess_image(image):\n",
    "    return (image - global_mean)/(global_std + K.epsilon())"
   ]
  },
  {
   "cell_type": "code",
   "execution_count": 4,
   "metadata": {},
   "outputs": [
    {
     "name": "stdout",
     "output_type": "stream",
     "text": [
      "Found 1611 images belonging to 4 classes.\n",
      "Found 402 images belonging to 4 classes.\n",
      "---------------------------------------\n",
      "Class weights:  {0: 1.0093984962406015, 1: 0.975181598062954, 2: 1.0093984962406015, 3: 1.006875}\n",
      "---------------------------------------\n",
      "Class indices:  {'AKIEC': 0, 'BCC': 1, 'DF': 2, 'VASC': 3}\n"
     ]
    }
   ],
   "source": [
    "from keras.preprocessing.image import ImageDataGenerator\n",
    "from sklearn.utils import compute_class_weight\n",
    "\n",
    "img_gen = ImageDataGenerator(preprocessing_function=preprocess_image)\n",
    "\n",
    "train_gen = img_gen.flow_from_directory('/home/ubuntu/Data/Skin/last_stage/train/', \n",
    "                                        target_size=(IM_HEIGHT, IM_WIDTH), \n",
    "                                        class_mode='categorical', \n",
    "                                        shuffle=True, \n",
    "                                        batch_size=BATCH_SIZE, \n",
    "                                        seed=SEED)\n",
    "\n",
    "val_gen = img_gen.flow_from_directory('/home/ubuntu/Data/Skin/last_stage/val/', \n",
    "                                        target_size=(IM_HEIGHT, IM_WIDTH), \n",
    "                                        class_mode='categorical', \n",
    "                                        shuffle=True, \n",
    "                                        batch_size=BATCH_SIZE, \n",
    "                                        seed=SEED)\n",
    "\n",
    "y_train = train_gen.classes\n",
    "weights = compute_class_weight('balanced', np.unique(y_train), y_train)\n",
    "class_weights = {i: weights[i] for i in range(len(weights))}\n",
    "print('---------------------------------------')\n",
    "print('Class weights: ', class_weights)\n",
    "print('---------------------------------------')\n",
    "print('Class indices: ', train_gen.class_indices)"
   ]
  },
  {
   "cell_type": "code",
   "execution_count": 5,
   "metadata": {},
   "outputs": [],
   "source": [
    "from keras.applications.inception_v3 import InceptionV3\n",
    "from keras import Model\n",
    "from keras.layers import (Dense, Activation, Dropout, \n",
    "                          BatchNormalization, Flatten, GlobalAveragePooling2D)\n",
    "\n",
    "inc = InceptionV3(include_top=False, input_shape=(IM_HEIGHT, IM_WIDTH, 3), weights='imagenet')\n",
    "x = inc.output\n",
    "x = GlobalAveragePooling2D()(x)\n",
    "x = Dense(16)(x)\n",
    "x = BatchNormalization()(x)\n",
    "x = Activation('relu')(x)\n",
    "x = Dropout(0.5)(x)\n",
    "\n",
    "out = Dense(4, activation='softmax')(x)\n",
    "\n",
    "model = Model(inputs=inc.input, outputs=out)\n",
    "\n",
    "for i, layer in enumerate(model.layers):\n",
    "    if type(layer) is BatchNormalization:\n",
    "        layer = BatchNormalization()(model.layers[i-1].output)\n",
    "\n",
    "for layer in inc.layers:\n",
    "    layer.trainable = False"
   ]
  },
  {
   "cell_type": "code",
   "execution_count": 6,
   "metadata": {},
   "outputs": [
    {
     "name": "stdout",
     "output_type": "stream",
     "text": [
      "Epoch 1/1\n",
      "101/101 [==============================] - 56s 555ms/step - loss: 1.1758 - val_loss: 1.3939\n"
     ]
    }
   ],
   "source": [
    "model.compile(loss='categorical_crossentropy', optimizer='adam')\n",
    "\n",
    "_ = model.fit_generator(train_gen, \n",
    "                        steps_per_epoch=train_gen.samples//BATCH_SIZE + 1, \n",
    "                        validation_data=val_gen, \n",
    "                        validation_steps=val_gen.samples//BATCH_SIZE + 1, \n",
    "                        shuffle=True, \n",
    "                        epochs=1, \n",
    "                        class_weight=class_weights)"
   ]
  },
  {
   "cell_type": "code",
   "execution_count": 7,
   "metadata": {},
   "outputs": [],
   "source": [
    "def f1(y_true, y_pred):\n",
    "    true_positives = K.sum(K.round(K.clip(y_true * y_pred, 0, 1)))\n",
    "    predicted_positives = K.sum(K.round(K.clip(y_pred, 0, 1)))\n",
    "    precision = true_positives / (predicted_positives + K.epsilon())\n",
    "    \n",
    "    possible_positives = K.sum(K.round(K.clip(y_true, 0, 1)))\n",
    "    recall = true_positives / (possible_positives + K.epsilon())\n",
    "    return ( 2*(precision * recall) / (precision + recall + K.epsilon()) )"
   ]
  },
  {
   "cell_type": "code",
   "execution_count": 8,
   "metadata": {},
   "outputs": [],
   "source": [
    "def precision(y_true, y_pred):\n",
    "    true_positives = K.sum(K.round(K.clip(y_true * y_pred, 0, 1)))\n",
    "    predicted_positives = K.sum(K.round(K.clip(y_pred, 0, 1)))\n",
    "    return (true_positives / (predicted_positives + K.epsilon()))"
   ]
  },
  {
   "cell_type": "code",
   "execution_count": 9,
   "metadata": {},
   "outputs": [],
   "source": [
    "def recall(y_true, y_pred):\n",
    "    true_positives = K.sum(K.round(K.clip(y_true * y_pred, 0, 1)))\n",
    "    possible_positives = K.sum(K.round(K.clip(y_true, 0, 1)))\n",
    "    return (true_positives / (possible_positives + K.epsilon()))"
   ]
  },
  {
   "cell_type": "code",
   "execution_count": 10,
   "metadata": {},
   "outputs": [
    {
     "name": "stdout",
     "output_type": "stream",
     "text": [
      "Model compiled for fine tuning\n"
     ]
    }
   ],
   "source": [
    "from keras.optimizers import Adam\n",
    "\n",
    "for layer in model.layers:\n",
    "    layer.trainable = True\n",
    "\n",
    "model.compile(loss='categorical_crossentropy', optimizer=Adam(lr=1e-4, decay=0.005),\n",
    "              metrics=['categorical_accuracy', precision, recall, f1])\n",
    "\n",
    "print('Model compiled for fine tuning')"
   ]
  },
  {
   "cell_type": "code",
   "execution_count": 11,
   "metadata": {},
   "outputs": [
    {
     "name": "stdout",
     "output_type": "stream",
     "text": [
      "Epoch 1/40\n",
      "101/101 [==============================] - 149s 1s/step - loss: 0.7884 - categorical_accuracy: 0.6724 - precision: 0.7765 - recall: 0.4704 - f1: 0.5821 - val_loss: 0.8559 - val_categorical_accuracy: 0.6866 - val_precision: 0.8080 - val_recall: 0.5647 - val_f1: 0.6602\n",
      "\n",
      "Epoch 00001: val_f1 improved from -inf to 0.66023, saving model to inception--baseline--2--adam.h5\n",
      "Epoch 2/40\n",
      "101/101 [==============================] - 128s 1s/step - loss: 0.5962 - categorical_accuracy: 0.7859 - precision: 0.9111 - recall: 0.5976 - f1: 0.7168 - val_loss: 0.7862 - val_categorical_accuracy: 0.6990 - val_precision: 0.8676 - val_recall: 0.5970 - val_f1: 0.7043\n",
      "\n",
      "Epoch 00002: val_f1 improved from 0.66023 to 0.70431, saving model to inception--baseline--2--adam.h5\n",
      "Epoch 3/40\n",
      "101/101 [==============================] - 128s 1s/step - loss: 0.5399 - categorical_accuracy: 0.8336 - precision: 0.9415 - recall: 0.6517 - f1: 0.7657 - val_loss: 0.7231 - val_categorical_accuracy: 0.7239 - val_precision: 0.9252 - val_recall: 0.5970 - val_f1: 0.7209\n",
      "\n",
      "Epoch 00003: val_f1 improved from 0.70431 to 0.72090, saving model to inception--baseline--2--adam.h5\n",
      "Epoch 4/40\n",
      "101/101 [==============================] - 127s 1s/step - loss: 0.5068 - categorical_accuracy: 0.8636 - precision: 0.9547 - recall: 0.6907 - f1: 0.7962 - val_loss: 0.6157 - val_categorical_accuracy: 0.8060 - val_precision: 0.9566 - val_recall: 0.6841 - val_f1: 0.7949\n",
      "\n",
      "Epoch 00004: val_f1 improved from 0.72090 to 0.79493, saving model to inception--baseline--2--adam.h5\n",
      "Epoch 5/40\n",
      "101/101 [==============================] - 127s 1s/step - loss: 0.4845 - categorical_accuracy: 0.8918 - precision: 0.9749 - recall: 0.7049 - f1: 0.8134 - val_loss: 0.6704 - val_categorical_accuracy: 0.7786 - val_precision: 0.9052 - val_recall: 0.6667 - val_f1: 0.7624\n",
      "\n",
      "Epoch 00005: val_f1 did not improve from 0.79493\n",
      "Epoch 6/40\n",
      "101/101 [==============================] - 127s 1s/step - loss: 0.4620 - categorical_accuracy: 0.8995 - precision: 0.9718 - recall: 0.7390 - f1: 0.8355 - val_loss: 0.6305 - val_categorical_accuracy: 0.8134 - val_precision: 0.9161 - val_recall: 0.6816 - val_f1: 0.7773\n",
      "\n",
      "Epoch 00006: val_f1 did not improve from 0.79493\n",
      "Epoch 7/40\n",
      "101/101 [==============================] - 127s 1s/step - loss: 0.4278 - categorical_accuracy: 0.9127 - precision: 0.9848 - recall: 0.7699 - f1: 0.8608 - val_loss: 0.6138 - val_categorical_accuracy: 0.8085 - val_precision: 0.9365 - val_recall: 0.6891 - val_f1: 0.7896\n",
      "\n",
      "Epoch 00007: val_f1 did not improve from 0.79493\n",
      "Epoch 8/40\n",
      "101/101 [==============================] - 127s 1s/step - loss: 0.4570 - categorical_accuracy: 0.9004 - precision: 0.9798 - recall: 0.7433 - f1: 0.8407 - val_loss: 0.6234 - val_categorical_accuracy: 0.8184 - val_precision: 0.9105 - val_recall: 0.6791 - val_f1: 0.7739\n",
      "\n",
      "Epoch 00008: val_f1 did not improve from 0.79493\n",
      "Epoch 9/40\n",
      "101/101 [==============================] - 127s 1s/step - loss: 0.4270 - categorical_accuracy: 0.9171 - precision: 0.9778 - recall: 0.7593 - f1: 0.8503 - val_loss: 0.6001 - val_categorical_accuracy: 0.8433 - val_precision: 0.9385 - val_recall: 0.7040 - val_f1: 0.7998\n",
      "\n",
      "Epoch 00009: val_f1 improved from 0.79493 to 0.79979, saving model to inception--baseline--2--adam.h5\n",
      "Epoch 10/40\n",
      "101/101 [==============================] - 127s 1s/step - loss: 0.4080 - categorical_accuracy: 0.9202 - precision: 0.9827 - recall: 0.7890 - f1: 0.8715 - val_loss: 0.6235 - val_categorical_accuracy: 0.8060 - val_precision: 0.9173 - val_recall: 0.7065 - val_f1: 0.7937\n",
      "\n",
      "Epoch 00010: val_f1 did not improve from 0.79979\n",
      "Epoch 11/40\n",
      "101/101 [==============================] - 126s 1s/step - loss: 0.4151 - categorical_accuracy: 0.9196 - precision: 0.9807 - recall: 0.7649 - f1: 0.8550 - val_loss: 0.6127 - val_categorical_accuracy: 0.7985 - val_precision: 0.9044 - val_recall: 0.7090 - val_f1: 0.7924\n",
      "\n",
      "Epoch 00011: val_f1 did not improve from 0.79979\n",
      "Epoch 12/40\n",
      "101/101 [==============================] - 126s 1s/step - loss: 0.4190 - categorical_accuracy: 0.9158 - precision: 0.9781 - recall: 0.7652 - f1: 0.8540 - val_loss: 0.5790 - val_categorical_accuracy: 0.8358 - val_precision: 0.9311 - val_recall: 0.7189 - val_f1: 0.8073\n",
      "\n",
      "Epoch 00012: val_f1 improved from 0.79979 to 0.80730, saving model to inception--baseline--2--adam.h5\n",
      "Epoch 13/40\n",
      "101/101 [==============================] - 126s 1s/step - loss: 0.4126 - categorical_accuracy: 0.9221 - precision: 0.9822 - recall: 0.7835 - f1: 0.8686 - val_loss: 0.5891 - val_categorical_accuracy: 0.8284 - val_precision: 0.9286 - val_recall: 0.7114 - val_f1: 0.8025\n",
      "\n",
      "Epoch 00013: val_f1 did not improve from 0.80730\n",
      "Epoch 14/40\n",
      "101/101 [==============================] - 126s 1s/step - loss: 0.3980 - categorical_accuracy: 0.9319 - precision: 0.9831 - recall: 0.7838 - f1: 0.8680 - val_loss: 0.5800 - val_categorical_accuracy: 0.8209 - val_precision: 0.9192 - val_recall: 0.7214 - val_f1: 0.8053\n",
      "\n",
      "Epoch 00014: val_f1 did not improve from 0.80730\n",
      "Epoch 15/40\n",
      "101/101 [==============================] - 126s 1s/step - loss: 0.3979 - categorical_accuracy: 0.9394 - precision: 0.9877 - recall: 0.8011 - f1: 0.8802 - val_loss: 0.5824 - val_categorical_accuracy: 0.8209 - val_precision: 0.9143 - val_recall: 0.7289 - val_f1: 0.8071\n",
      "\n",
      "Epoch 00015: val_f1 did not improve from 0.80730\n",
      "Epoch 16/40\n",
      "101/101 [==============================] - 126s 1s/step - loss: 0.4003 - categorical_accuracy: 0.9212 - precision: 0.9825 - recall: 0.7931 - f1: 0.8732 - val_loss: 0.6044 - val_categorical_accuracy: 0.8060 - val_precision: 0.8970 - val_recall: 0.7164 - val_f1: 0.7924\n",
      "\n",
      "Epoch 00016: val_f1 did not improve from 0.80730\n"
     ]
    },
    {
     "data": {
      "image/png": "[encoded data removed]",
      "text/plain": [
       "<Figure size 432x288 with 1 Axes>"
      ]
     },
     "metadata": {},
     "output_type": "display_data"
    },
    {
     "data": {
      "image/png": "[encoded data removed]",
      "text/plain": [
       "<Figure size 432x288 with 1 Axes>"
      ]
     },
     "metadata": {},
     "output_type": "display_data"
    }
   ],
   "source": [
    "from keras.callbacks import ModelCheckpoint, EarlyStopping\n",
    "\n",
    "checkpoint = ModelCheckpoint('inception--baseline--2--adam.h5', \n",
    "                             save_best_only=True, mode='max',\n",
    "                             monitor='val_f1', verbose=1)\n",
    "\n",
    "stopper = EarlyStopping(monitor='val_loss', mode='min', patience=4)\n",
    "\n",
    "h = model.fit_generator(train_gen, \n",
    "                        steps_per_epoch=train_gen.samples//BATCH_SIZE + 1, \n",
    "                        validation_data=val_gen, \n",
    "                        validation_steps=val_gen.samples//BATCH_SIZE + 1, \n",
    "                        shuffle=True, \n",
    "                        epochs=40, \n",
    "                        class_weight=class_weights, \n",
    "                        callbacks=[checkpoint, stopper])\n",
    "\n",
    "fig = plt.figure()\n",
    "plt.plot(h.history['loss'], 'r-')\n",
    "plt.plot(h.history['val_loss'], 'b-')\n",
    "plt.show()\n",
    "\n",
    "fig = plt.figure()\n",
    "plt.plot(h.history['f1'], 'r-')\n",
    "plt.plot(h.history['val_f1'], 'b-')\n",
    "plt.show()"
   ]
  },
  {
   "cell_type": "code",
   "execution_count": null,
   "metadata": {},
   "outputs": [],
   "source": []
  }
 ],
 "metadata": {
  "kernelspec": {
   "display_name": "Python 3",
   "language": "python",
   "name": "python3"
  },
  "language_info": {
   "codemirror_mode": {
    "name": "ipython",
    "version": 3
   },
   "file_extension": ".py",
   "mimetype": "text/x-python",
   "name": "python",
   "nbconvert_exporter": "python",
   "pygments_lexer": "ipython3",
   "version": "3.6.5"
  }
 },
 "nbformat": 4,
 "nbformat_minor": 2
}
